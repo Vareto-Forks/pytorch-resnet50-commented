{
 "cells": [
  {
   "cell_type": "code",
   "execution_count": null,
   "metadata": {},
   "outputs": [
    {
     "name": "stdout",
     "output_type": "stream",
     "text": [
      "Downloading dataset...\n",
      "Files already downloaded and verified"
     ]
    }
   ],
   "source": [
    "from dataloaders.cifar10_dataloader import Cifar10DataLoader\n",
    "from agent import Agent\n",
    "from models.resnet import ResNet34, ResNet50\n",
    "from models.resnet_imported import ResNetImported\n",
    "\n",
    "agent = Agent(ResNetImported(10), Cifar10DataLoader())\n",
    "agent.load_checkpoint('checkpoints/cifar10_ResNet50Imported_1epochs_10-03_17:21.pt')\n",
    "agent.print_accuracy()\n",
    "print(agent.model_state)\n",
    "\n",
    "\n",
    "\n"
   ]
  },
  {
   "cell_type": "code",
   "execution_count": 4,
   "metadata": {},
   "outputs": [
    {
     "name": "stdout",
     "output_type": "stream",
     "text": [
      "12000\n"
     ]
    }
   ],
   "source": [
    "print(len(loader.train.dataset))\n"
   ]
  }
 ],
 "metadata": {
  "kernelspec": {
   "display_name": "Python 3",
   "language": "python",
   "name": "python3"
  },
  "language_info": {
   "codemirror_mode": {
    "name": "ipython",
    "version": 3
   },
   "file_extension": ".py",
   "mimetype": "text/x-python",
   "name": "python",
   "nbconvert_exporter": "python",
   "pygments_lexer": "ipython3",
   "version": "3.6.5"
  }
 },
 "nbformat": 4,
 "nbformat_minor": 2
}
